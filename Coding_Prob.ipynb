{
 "cells": [
  {
   "cell_type": "markdown",
   "id": "9446ad1e",
   "metadata": {},
   "source": [
    "<b><font size = 4> Take two values as input from the user in variables 'a' and 'b' . Swap the values of the two variables "
   ]
  },
  {
   "cell_type": "code",
   "execution_count": 1,
   "id": "83b46a79",
   "metadata": {},
   "outputs": [
    {
     "name": "stdout",
     "output_type": "stream",
     "text": [
      "Enter values for a and b to swap\n",
      "12\n",
      "34\n",
      "Value of a is  34\n",
      "Value of b is  12\n"
     ]
    }
   ],
   "source": [
    "# Method - 1\n",
    "print(\"Enter values for a and b to swap\")\n",
    "\n",
    "a = input()\n",
    "b = input()\n",
    "c = a\n",
    "a = b\n",
    "b = c\n",
    "\n",
    "print(\"Value of a is \",a)\n",
    "print(\"Value of b is \",b)"
   ]
  },
  {
   "cell_type": "code",
   "execution_count": 2,
   "id": "9cd1d6af",
   "metadata": {},
   "outputs": [
    {
     "name": "stdout",
     "output_type": "stream",
     "text": [
      "Enter values for a and b to swap\n",
      "56\n",
      "78\n",
      "Value of a is  78\n",
      "Value of b is  56\n"
     ]
    }
   ],
   "source": [
    "#Method -2 \n",
    "print(\"Enter values for a and b to swap\")\n",
    "\n",
    "a = input()\n",
    "b = input()\n",
    "\n",
    "a,b = b,a\n",
    "\n",
    "print(\"Value of a is \",a)\n",
    "print(\"Value of b is \",b)"
   ]
  },
  {
   "cell_type": "code",
   "execution_count": null,
   "id": "2b330d4a",
   "metadata": {},
   "outputs": [],
   "source": []
  },
  {
   "cell_type": "markdown",
   "id": "b6ca991d",
   "metadata": {},
   "source": [
    "## EXERCISES"
   ]
  },
  {
   "cell_type": "markdown",
   "id": "acd48d51",
   "metadata": {},
   "source": [
    "### PROBLEM -1 > Builld a program to get the following output using print() and escape sequences :"
   ]
  },
  {
   "cell_type": "markdown",
   "id": "c9f0ac35",
   "metadata": {},
   "source": [
    "<img src=\"Exer-photo.png\" width=\"800\">"
   ]
  },
  {
   "cell_type": "markdown",
   "id": "290ba818",
   "metadata": {},
   "source": [
    "### PROBLEM-2 > Take a two-digit integer as input from the user .  Print the digit at the ones place separately"
   ]
  },
  {
   "cell_type": "code",
   "execution_count": null,
   "id": "b95f7db5",
   "metadata": {},
   "outputs": [],
   "source": []
  },
  {
   "cell_type": "markdown",
   "id": "e0369e48",
   "metadata": {},
   "source": [
    "### PROBLEM-3 > Take two numbers(+ve integers) as input from the user. Add the two numbers in this way - > \n",
    "<font size = 4>      23+56 = 2356"
   ]
  },
  {
   "cell_type": "code",
   "execution_count": null,
   "id": "54dc0199",
   "metadata": {},
   "outputs": [],
   "source": []
  }
 ],
 "metadata": {
  "kernelspec": {
   "display_name": "Python 3",
   "language": "python",
   "name": "python3"
  },
  "language_info": {
   "codemirror_mode": {
    "name": "ipython",
    "version": 3
   },
   "file_extension": ".py",
   "mimetype": "text/x-python",
   "name": "python",
   "nbconvert_exporter": "python",
   "pygments_lexer": "ipython3",
   "version": "3.8.8"
  }
 },
 "nbformat": 4,
 "nbformat_minor": 5
}
