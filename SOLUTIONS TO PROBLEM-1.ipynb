{
 "cells": [
  {
   "cell_type": "markdown",
   "id": "b6ca991d",
   "metadata": {},
   "source": [
    "## EXERCISES"
   ]
  },
  {
   "cell_type": "markdown",
   "id": "acd48d51",
   "metadata": {},
   "source": [
    "### PROBLEM -1 > Builld a program to get the following output using print() and escape sequences :"
   ]
  },
  {
   "cell_type": "markdown",
   "id": "c9f0ac35",
   "metadata": {},
   "source": [
    "<img src=\"Exer-photo.png\" width=\"800\">"
   ]
  },
  {
   "cell_type": "code",
   "execution_count": 15,
   "id": "fa491947",
   "metadata": {},
   "outputs": [
    {
     "name": "stdout",
     "output_type": "stream",
     "text": [
      "\tPHYSICS\t\t|\tCHEMISTRY\t|\tBIOLOGY\n",
      "\n",
      "JOHN\t  28\t\t\t   24\t\t\t   20\n",
      "\n",
      "JACK\t  25\t\t\t   21\t\t\t   18\n",
      "\n",
      "DICK\t  19\t\t\t   23\t\t\t   30\n",
      "\n"
     ]
    }
   ],
   "source": [
    "print(\"\\tPHYSICS\\t\\t|\\tCHEMISTRY\\t|\\tBIOLOGY\\n\")\n",
    "print(\"JOHN\\t  28\\t\\t\\t   24\\t\\t\\t   20\\n\")\n",
    "print(\"JACK\\t  25\\t\\t\\t   21\\t\\t\\t   18\\n\")\n",
    "print(\"DICK\\t  19\\t\\t\\t   23\\t\\t\\t   30\\n\")"
   ]
  },
  {
   "cell_type": "markdown",
   "id": "290ba818",
   "metadata": {},
   "source": [
    "### PROBLEM-2 > Take a two-digit integer as input from the user .  Print the digit at the ones place separately"
   ]
  },
  {
   "cell_type": "code",
   "execution_count": 5,
   "id": "b8a4f8dd",
   "metadata": {},
   "outputs": [
    {
     "name": "stdout",
     "output_type": "stream",
     "text": [
      "Please give a two digit integer\n",
      "10\n",
      "The digit at the ones place is  0\n"
     ]
    }
   ],
   "source": [
    "# modulo operation\n",
    "x = int(input(\"Please give a two digit integer\\n\"))\n",
    "print(\"The digit at the ones place is \",x%10)"
   ]
  },
  {
   "cell_type": "code",
   "execution_count": 6,
   "id": "95bd9a6a",
   "metadata": {},
   "outputs": [
    {
     "name": "stdout",
     "output_type": "stream",
     "text": [
      "Please give a two digit integer\n",
      "23\n",
      "The digit at the ones place is  3\n"
     ]
    }
   ],
   "source": [
    "x = int(input(\"Please give a two digit integer\\n\"))\n",
    "tens = int(x/10)*10\n",
    "ones = x - tens\n",
    "print(\"The digit at the ones place is \",ones)"
   ]
  },
  {
   "cell_type": "markdown",
   "id": "e0369e48",
   "metadata": {},
   "source": [
    "### PROBLEM-3 > Take two numbers(+ve integers) as input from the user. Add the two numbers in this way - > \n",
    "<font size = 4>      23+56 = 2356"
   ]
  },
  {
   "cell_type": "code",
   "execution_count": 14,
   "id": "10501f05",
   "metadata": {},
   "outputs": [
    {
     "name": "stdout",
     "output_type": "stream",
     "text": [
      "Enter two positive integers \n",
      "23\n",
      "56\n",
      "23 + 56  is  2356\n"
     ]
    }
   ],
   "source": [
    "print(\"Enter two positive integers \")\n",
    "x = input()\n",
    "y = input()\n",
    "print(x,\"+\",y,\" is \",x+y)"
   ]
  },
  {
   "cell_type": "markdown",
   "id": "881e0cd0",
   "metadata": {},
   "source": [
    "## PROBLEM-4> Take any two numbers( 2 digit +ve integers) as input from the user. Multiply the numbers in this way->\n"
   ]
  },
  {
   "attachments": {
    "image.png": {
     "image/png": "[encoded data removed]"
    }
   },
   "cell_type": "markdown",
   "id": "033f70ce",
   "metadata": {},
   "source": [
    "![image.png](attachment:image.png)"
   ]
  },
  {
   "cell_type": "code",
   "execution_count": null,
   "id": "6199805c",
   "metadata": {},
   "outputs": [],
   "source": []
  }
 ],
 "metadata": {
  "kernelspec": {
   "display_name": "Python 3",
   "language": "python",
   "name": "python3"
  },
  "language_info": {
   "codemirror_mode": {
    "name": "ipython",
    "version": 3
   },
   "file_extension": ".py",
   "mimetype": "text/x-python",
   "name": "python",
   "nbconvert_exporter": "python",
   "pygments_lexer": "ipython3",
   "version": "3.8.8"
  }
 },
 "nbformat": 4,
 "nbformat_minor": 5
}
